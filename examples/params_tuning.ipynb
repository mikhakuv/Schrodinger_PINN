{
 "cells": [
  {
   "cell_type": "markdown",
   "metadata": {
    "id": "CSj6OaovBhEG"
   },
   "source": [
    "##PINN:"
   ]
  },
  {
   "cell_type": "code",
   "execution_count": 1,
   "metadata": {
    "id": "0dDwGvyxgffj"
   },
   "outputs": [],
   "source": [
    "import time\n",
    "import math\n",
    "import torch\n",
    "import numpy as np\n",
    "from problems import sixth_order\n",
    "from pinn import PINN, make_points\n",
    "from ray import train, tune\n",
    "from ray.tune.search.optuna import OptunaSearch\n",
    "np.random.seed(1234)\n",
    "if torch.cuda.is_available():\n",
    "    device = torch.device('cuda')\n",
    "else:\n",
    "    device = torch.device('cpu')"
   ]
  },
  {
   "cell_type": "code",
   "execution_count": 2,
   "metadata": {
    "colab": {
     "base_uri": "https://localhost:8080/",
     "height": 950
    },
    "id": "bfVYQIeqgmT5",
    "outputId": "ad0c1915-270e-4c53-9a33-7cf4dbe8953e"
   },
   "outputs": [
    {
     "name": "stdout",
     "output_type": "stream",
     "text": [
      "a1 = 1.000, a2 = -1.000, a3 = -2.800, a4 = -0.300, a5 = -0.600, a6 = 0.100,\n",
      " b1 = 6.000, b2 = -1.525, b3 = 0.113\n"
     ]
    }
   ],
   "source": [
    "#domain setting\n",
    "x_0=-10.\n",
    "x_1=10.\n",
    "t_0=0.\n",
    "t_1=1.\n",
    "#problem setting\n",
    "a1 = 1\n",
    "a2 = -1\n",
    "a4 = -0.3\n",
    "a6 = 0.1\n",
    "b1 = 6\n",
    "khi = 1\n",
    "a_param = 0.5\n",
    "x0_param = 4\n",
    "theta0 = math.pi/3\n",
    "problem = sixth_order(x_0, x_1, t_0, t_1, a1, a2, a4, a6, b1, khi, a_param, x0_param, theta0)\n",
    "#info about the problem\n",
    "problem.show_params()"
   ]
  },
  {
   "cell_type": "code",
   "execution_count": 3,
   "metadata": {
    "id": "DLA_O94GFoXf"
   },
   "outputs": [],
   "source": [
    "#data for training\n",
    "X_i_train, U_i_train, V_i_train, X_b_train, X_grid = make_points(problem, 400, 100, grid_resolution_x=200, grid_resolution_t=100)\n",
    "#data for metrics evaluation\n",
    "x_parts=200\n",
    "t_parts=100\n",
    "x=np.linspace(x_0,x_1,x_parts)\n",
    "t=np.linspace(t_0,t_1,t_parts)\n",
    "X, T = np.meshgrid(x, t)\n",
    "X_star = np.hstack((X.flatten()[:,None], T.flatten()[:,None])) #test input for PINN\n",
    "Q_truth=problem.q(X,T) #ground truth\n",
    "layers = [2, 100, 100, 100, 2] #network topology"
   ]
  },
  {
   "cell_type": "code",
   "execution_count": 4,
   "metadata": {},
   "outputs": [],
   "source": [
    "#rel_h evaluation for tuning\n",
    "def show_rel_h(model):\n",
    "    u_pred, v_pred, f_u_pred, f_v_pred = model.predict(X_star)\n",
    "    Q_pred=u_pred.reshape((t_parts, x_parts)) + 1j*v_pred.reshape((t_parts, x_parts))\n",
    "    Q_abs_pred=np.abs(Q_pred)\n",
    "    Q_abs_truth=np.abs(Q_truth)\n",
    "    rel_h = np.linalg.norm(Q_abs_truth.flatten() - Q_abs_pred.flatten(), 2)/np.linalg.norm(Q_abs_truth.flatten(), 2)\n",
    "    return rel_h"
   ]
  },
  {
   "cell_type": "code",
   "execution_count": 5,
   "metadata": {},
   "outputs": [
    {
     "data": {
      "text/html": [
       "<div class=\"tuneStatus\">\n",
       "  <div style=\"display: flex;flex-direction: row\">\n",
       "    <div style=\"display: flex;flex-direction: column;\">\n",
       "      <h3>Tune Status</h3>\n",
       "      <table>\n",
       "<tbody>\n",
       "<tr><td>Current time:</td><td>2024-10-22 04:02:30</td></tr>\n",
       "<tr><td>Running for: </td><td>04:09:32.25        </td></tr>\n",
       "<tr><td>Memory:      </td><td>8.8/62.6 GiB       </td></tr>\n",
       "</tbody>\n",
       "</table>\n",
       "    </div>\n",
       "    <div class=\"vDivider\"></div>\n",
       "    <div class=\"systemInfo\">\n",
       "      <h3>System Info</h3>\n",
       "      Using FIFO scheduling algorithm.<br>Logical resource usage: 20.0/40 CPUs, 2.0/2 GPUs (0.0/1.0 accelerator_type:V100)\n",
       "    </div>\n",
       "    \n",
       "  </div>\n",
       "  <div class=\"hDivider\"></div>\n",
       "  <div class=\"trialStatus\">\n",
       "    <h3>Trial Status</h3>\n",
       "    <table>\n",
       "<thead>\n",
       "<tr><th>Trial name        </th><th>status    </th><th>loc              </th><th>points_gen_method  </th><th style=\"text-align: right;\">  iter</th><th style=\"text-align: right;\">  total time (s)</th><th style=\"text-align: right;\">   rel_h</th></tr>\n",
       "</thead>\n",
       "<tbody>\n",
       "<tr><td>objective_4ba3ebf0</td><td>RUNNING   </td><td>172.19.17.1:1689 </td><td>third              </td><td style=\"text-align: right;\">     1</td><td style=\"text-align: right;\">         2980.19</td><td style=\"text-align: right;\">0.369954</td></tr>\n",
       "<tr><td>objective_9f9ff77a</td><td>RUNNING   </td><td>172.19.17.1:2705 </td><td>second             </td><td style=\"text-align: right;\">     1</td><td style=\"text-align: right;\">         3003.64</td><td style=\"text-align: right;\">0.308022</td></tr>\n",
       "<tr><td>objective_b1988e64</td><td>PENDING   </td><td>                 </td><td>random             </td><td style=\"text-align: right;\">      </td><td style=\"text-align: right;\">                </td><td style=\"text-align: right;\">        </td></tr>\n",
       "<tr><td>objective_86aeb488</td><td>TERMINATED</td><td>172.19.17.1:15349</td><td>third              </td><td style=\"text-align: right;\">     3</td><td style=\"text-align: right;\">         9241.66</td><td style=\"text-align: right;\">0.312834</td></tr>\n",
       "<tr><td>objective_c785b14e</td><td>TERMINATED</td><td>172.19.17.1:15515</td><td>second             </td><td style=\"text-align: right;\">     3</td><td style=\"text-align: right;\">         8923.86</td><td style=\"text-align: right;\">0.306095</td></tr>\n",
       "</tbody>\n",
       "</table>\n",
       "  </div>\n",
       "</div>\n",
       "<style>\n",
       ".tuneStatus {\n",
       "  color: var(--jp-ui-font-color1);\n",
       "}\n",
       ".tuneStatus .systemInfo {\n",
       "  display: flex;\n",
       "  flex-direction: column;\n",
       "}\n",
       ".tuneStatus td {\n",
       "  white-space: nowrap;\n",
       "}\n",
       ".tuneStatus .trialStatus {\n",
       "  display: flex;\n",
       "  flex-direction: column;\n",
       "}\n",
       ".tuneStatus h3 {\n",
       "  font-weight: bold;\n",
       "}\n",
       ".tuneStatus .hDivider {\n",
       "  border-bottom-width: var(--jp-border-width);\n",
       "  border-bottom-color: var(--jp-border-color0);\n",
       "  border-bottom-style: solid;\n",
       "}\n",
       ".tuneStatus .vDivider {\n",
       "  border-left-width: var(--jp-border-width);\n",
       "  border-left-color: var(--jp-border-color0);\n",
       "  border-left-style: solid;\n",
       "  margin: 0.5em 1em 0.5em 1em;\n",
       "}\n",
       "</style>\n"
      ],
      "text/plain": [
       "<IPython.core.display.HTML object>"
      ]
     },
     "metadata": {},
     "output_type": "display_data"
    },
    {
     "name": "stdout",
     "output_type": "stream",
     "text": [
      "\u001b[36m(objective pid=15349)\u001b[0m Training started with third points generation method and none loss balancing\n",
      "\u001b[36m(objective pid=15349)\u001b[0m 10000 steps of ADAM:\n",
      "\u001b[36m(objective pid=15515)\u001b[0m Training started with second points generation method and none loss balancing\n",
      "\u001b[36m(objective pid=15515)\u001b[0m Iter 10000, Loss: 8.674e-03, Loss_i: 2.87e-03, Loss_b: 4.37e-04, Loss_f: 7.50e-02\n",
      "\u001b[36m(objective pid=15515)\u001b[0m 10000 steps of ADAM:\n",
      "\u001b[36m(objective pid=15515)\u001b[0m Total iterations: 10000 + 0 + 0\n",
      "\u001b[36m(objective pid=15515)\u001b[0m Training started with second points generation method and none loss balancing\n",
      "\u001b[36m(objective pid=15515)\u001b[0m 10000 steps of ADAM:\n",
      "\u001b[36m(objective pid=15349)\u001b[0m Iter 10000, Loss: 4.234e-03, Loss_i: 1.56e-03, Loss_b: 1.02e-04, Loss_f: 3.51e-02\n",
      "\u001b[36m(objective pid=15349)\u001b[0m Total iterations: 10000 + 0 + 0\n",
      "\u001b[36m(objective pid=15349)\u001b[0m Training started with third points generation method and none loss balancing\n",
      "\u001b[36m(objective pid=15349)\u001b[0m 10000 steps of ADAM:\n",
      "\u001b[36m(objective pid=15515)\u001b[0m Iter 10000, Loss: 3.538e-03, Loss_i: 1.28e-03, Loss_b: 1.84e-04, Loss_f: 2.95e-02\n",
      "\u001b[36m(objective pid=15515)\u001b[0m Total iterations: 10000 + 0 + 0\n",
      "\u001b[36m(objective pid=15515)\u001b[0m Training started with second points generation method and none loss balancing\n",
      "\u001b[36m(objective pid=15515)\u001b[0m 10000 steps of ADAM:\n",
      "\u001b[36m(objective pid=15349)\u001b[0m Iter 10000, Loss: 5.091e-03, Loss_i: 2.07e-03, Loss_b: 1.22e-04, Loss_f: 4.03e-02\n",
      "\u001b[36m(objective pid=15349)\u001b[0m Total iterations: 10000 + 0 + 0\n",
      "\u001b[36m(objective pid=15349)\u001b[0m Training started with third points generation method and none loss balancing\n",
      "\u001b[36m(objective pid=15349)\u001b[0m 10000 steps of ADAM:\n",
      "\u001b[36m(objective pid=15515)\u001b[0m Iter 10000, Loss: 7.033e-03, Loss_i: 2.50e-03, Loss_b: 3.04e-04, Loss_f: 5.91e-02\n",
      "\u001b[36m(objective pid=15515)\u001b[0m Total iterations: 10000 + 0 + 0\n",
      "\u001b[36m(objective pid=1689)\u001b[0m Training started with third points generation method and none loss balancing\n",
      "\u001b[36m(objective pid=1689)\u001b[0m 10000 steps of ADAM:\n",
      "\u001b[36m(objective pid=15349)\u001b[0m Iter 10000, Loss: 1.072e-02, Loss_i: 3.50e-03, Loss_b: 5.26e-04, Loss_f: 9.31e-02\n",
      "\u001b[36m(objective pid=15349)\u001b[0m Total iterations: 10000 + 0 + 0\n",
      "\u001b[36m(objective pid=2705)\u001b[0m Training started with second points generation method and none loss balancing\n",
      "\u001b[36m(objective pid=2705)\u001b[0m 10000 steps of ADAM:\n",
      "\u001b[36m(objective pid=1689)\u001b[0m Iter 10000, Loss: 1.638e-02, Loss_i: 6.54e-03, Loss_b: 5.86e-04, Loss_f: 1.31e-01\n",
      "\u001b[36m(objective pid=1689)\u001b[0m Total iterations: 10000 + 0 + 0\n",
      "\u001b[36m(objective pid=1689)\u001b[0m Training started with third points generation method and none loss balancing\n",
      "\u001b[36m(objective pid=1689)\u001b[0m 10000 steps of ADAM:\n",
      "\u001b[36m(objective pid=2705)\u001b[0m Iter 10000, Loss: 6.459e-03, Loss_i: 2.75e-03, Loss_b: 2.04e-04, Loss_f: 4.98e-02\n",
      "\u001b[36m(objective pid=2705)\u001b[0m Total iterations: 10000 + 0 + 0\n",
      "\u001b[36m(objective pid=2705)\u001b[0m Training started with second points generation method and none loss balancing\n",
      "\u001b[36m(objective pid=2705)\u001b[0m 10000 steps of ADAM:\n"
     ]
    },
    {
     "name": "stderr",
     "output_type": "stream",
     "text": [
      "IOPub message rate exceeded.\n",
      "The Jupyter server will temporarily stop sending output\n",
      "to the client in order to avoid crashing it.\n",
      "To change this limit, set the config variable\n",
      "`--ServerApp.iopub_msg_rate_limit`.\n",
      "\n",
      "Current values:\n",
      "ServerApp.iopub_msg_rate_limit=1000.0 (msgs/sec)\n",
      "ServerApp.rate_limit_window=3.0 (secs)\n",
      "\n"
     ]
    }
   ],
   "source": [
    "def objective(config):  #Wrap a PyTorch model in an objective function.\n",
    "    model = PINN(problem, layers, X_i_train, U_i_train, V_i_train, X_b_train, X_grid)\n",
    "    ##Setting hyperparameters\n",
    "    #verbosity\n",
    "    model.verbosity = 10000 #loss output frequency\n",
    "    model.make_res_gif = False #makes gif with residual history\n",
    "    #points generation options\n",
    "    model.points_gen_method = config[\"points_gen_method\"] #\"random\"/first\"/\"second\"/\"third\"\n",
    "    model.points_gen_freq = 10 #points generation frequency\n",
    "    model.points_am = 5000 #amount of collocation points\n",
    "    #optimization options\n",
    "    model.adam_steps = 10000\n",
    "    model.lbfgs_steps = 0\n",
    "    model.nncg_steps = 0\n",
    "    model.adam_step_decay = 0.997\n",
    "    model.lbfgs_step_decay = 0.990\n",
    "    model.nncg_step_decay = 0.990\n",
    "    model.decay_freq = 100\n",
    "    #loss balancing options\n",
    "    model.loss_bal_method = \"none\" #\"none\"/\"relobralo\"\n",
    "    model.bal_freq = 1 #loss rebalancing frequency\n",
    "    model.lambda_i = 10/12\n",
    "    model.lambda_b = 1/12\n",
    "    model.lambda_f = 1/12\n",
    "    model.extinction = 0.9 #extinction coefficient for ReLoBRaLo\n",
    "    #causal training\n",
    "    model.causal_loss = False\n",
    "    model.epsilon = 0.10\n",
    "    model.t_partition = 30 #number of parts in the [t_0, t_1] division\n",
    "    \n",
    "    while True:\n",
    "        model.train()\n",
    "        rel_h = show_rel_h(model)\n",
    "        model.clear()\n",
    "        train.report({\"rel_h\": rel_h})\n",
    "\n",
    "search_space = {\"points_gen_method\": tune.choice([\"random\",\"first\",\"second\",\"third\"])}\n",
    "\n",
    "trainable_with_gpu = tune.with_resources(objective, {\"cpu\": 10, \"gpu\": 1})\n",
    "tuner = tune.Tuner(objective,\n",
    "    tune_config=tune.TuneConfig(metric=\"rel_h\", mode=\"min\", search_alg=OptunaSearch(), num_samples=6),\n",
    "    run_config=train.RunConfig(stop={\"training_iteration\": 3}),\n",
    "    param_space=search_space)\n",
    "results = tuner.fit()\n",
    "print(\"Best config is:\", results.get_best_result().config)"
   ]
  },
  {
   "cell_type": "code",
   "execution_count": null,
   "metadata": {},
   "outputs": [],
   "source": []
  }
 ],
 "metadata": {
  "colab": {
   "provenance": []
  },
  "kernelspec": {
   "display_name": "nncg",
   "language": "python",
   "name": "nncg"
  },
  "language_info": {
   "codemirror_mode": {
    "name": "ipython",
    "version": 3
   },
   "file_extension": ".py",
   "mimetype": "text/x-python",
   "name": "python",
   "nbconvert_exporter": "python",
   "pygments_lexer": "ipython3",
   "version": "3.9.20"
  }
 },
 "nbformat": 4,
 "nbformat_minor": 4
}
